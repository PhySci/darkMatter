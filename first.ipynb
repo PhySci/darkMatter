{
 "cells": [
  {
   "cell_type": "code",
   "execution_count": 1,
   "metadata": {
    "collapsed": true
   },
   "outputs": [],
   "source": [
    "import pandas as pd\n",
    "import numpy as np\n",
    "import matplotlib.pyplot as plt\n",
    "%matplotlib inline"
   ]
  },
  {
   "cell_type": "code",
   "execution_count": 3,
   "metadata": {
    "collapsed": false
   },
   "outputs": [
    {
     "data": {
      "text/html": [
       "<div>\n",
       "<table border=\"1\" class=\"dataframe\">\n",
       "  <thead>\n",
       "    <tr style=\"text-align: right;\">\n",
       "      <th></th>\n",
       "      <th>event_id</th>\n",
       "      <th>X</th>\n",
       "      <th>Y</th>\n",
       "      <th>Z</th>\n",
       "      <th>TX</th>\n",
       "      <th>TY</th>\n",
       "      <th>chi2</th>\n",
       "      <th>signal</th>\n",
       "      <th>brick_number</th>\n",
       "    </tr>\n",
       "    <tr>\n",
       "      <th>index</th>\n",
       "      <th></th>\n",
       "      <th></th>\n",
       "      <th></th>\n",
       "      <th></th>\n",
       "      <th></th>\n",
       "      <th></th>\n",
       "      <th></th>\n",
       "      <th></th>\n",
       "      <th></th>\n",
       "    </tr>\n",
       "  </thead>\n",
       "  <tbody>\n",
       "    <tr>\n",
       "      <th>0</th>\n",
       "      <td>-999</td>\n",
       "      <td>66162.843750</td>\n",
       "      <td>65620.031250</td>\n",
       "      <td>0.0</td>\n",
       "      <td>0.166890</td>\n",
       "      <td>0.276674</td>\n",
       "      <td>2.988714</td>\n",
       "      <td>0.0</td>\n",
       "      <td>44</td>\n",
       "    </tr>\n",
       "    <tr>\n",
       "      <th>1</th>\n",
       "      <td>-999</td>\n",
       "      <td>43900.445312</td>\n",
       "      <td>67091.671875</td>\n",
       "      <td>0.0</td>\n",
       "      <td>-0.179967</td>\n",
       "      <td>-0.478795</td>\n",
       "      <td>1.901420</td>\n",
       "      <td>0.0</td>\n",
       "      <td>98</td>\n",
       "    </tr>\n",
       "    <tr>\n",
       "      <th>2</th>\n",
       "      <td>-999</td>\n",
       "      <td>37564.019531</td>\n",
       "      <td>26618.890625</td>\n",
       "      <td>55599.0</td>\n",
       "      <td>-0.267820</td>\n",
       "      <td>-0.282087</td>\n",
       "      <td>2.510245</td>\n",
       "      <td>0.0</td>\n",
       "      <td>64</td>\n",
       "    </tr>\n",
       "    <tr>\n",
       "      <th>3</th>\n",
       "      <td>-999</td>\n",
       "      <td>39380.027344</td>\n",
       "      <td>48135.425781</td>\n",
       "      <td>19395.0</td>\n",
       "      <td>0.265197</td>\n",
       "      <td>-0.577493</td>\n",
       "      <td>1.215219</td>\n",
       "      <td>0.0</td>\n",
       "      <td>63</td>\n",
       "    </tr>\n",
       "    <tr>\n",
       "      <th>4</th>\n",
       "      <td>-999</td>\n",
       "      <td>65040.781250</td>\n",
       "      <td>44018.468750</td>\n",
       "      <td>12930.0</td>\n",
       "      <td>-0.711161</td>\n",
       "      <td>-0.245592</td>\n",
       "      <td>2.973661</td>\n",
       "      <td>0.0</td>\n",
       "      <td>2</td>\n",
       "    </tr>\n",
       "  </tbody>\n",
       "</table>\n",
       "</div>"
      ],
      "text/plain": [
       "       event_id             X             Y        Z        TX        TY  \\\n",
       "index                                                                      \n",
       "0          -999  66162.843750  65620.031250      0.0  0.166890  0.276674   \n",
       "1          -999  43900.445312  67091.671875      0.0 -0.179967 -0.478795   \n",
       "2          -999  37564.019531  26618.890625  55599.0 -0.267820 -0.282087   \n",
       "3          -999  39380.027344  48135.425781  19395.0  0.265197 -0.577493   \n",
       "4          -999  65040.781250  44018.468750  12930.0 -0.711161 -0.245592   \n",
       "\n",
       "           chi2  signal  brick_number  \n",
       "index                                  \n",
       "0      2.988714     0.0            44  \n",
       "1      1.901420     0.0            98  \n",
       "2      2.510245     0.0            64  \n",
       "3      1.215219     0.0            63  \n",
       "4      2.973661     0.0             2  "
      ]
     },
     "execution_count": 3,
     "metadata": {},
     "output_type": "execute_result"
    }
   ],
   "source": [
    "train = pd.read_csv('./data/train.csv',index_col='index')\n",
    "train.head()"
   ]
  },
  {
   "cell_type": "code",
   "execution_count": 8,
   "metadata": {
    "collapsed": false
   },
   "outputs": [
    {
     "data": {
      "text/plain": [
       "(100L,)"
      ]
     },
     "execution_count": 8,
     "metadata": {},
     "output_type": "execute_result"
    }
   ],
   "source": [
    "# оценим количество кирпичей\n",
    "train.brick_number.unique().shape"
   ]
  },
  {
   "cell_type": "code",
   "execution_count": 37,
   "metadata": {
    "collapsed": true
   },
   "outputs": [],
   "source": [
    "# predict position of the track on the next layer\n",
    "def getPosition(track,dz):\n",
    "    '''\n",
    "    track - track record (X,Y,Z,TX,TY)\n",
    "    '''\n",
    "    pos = np.array([track.X, track.Y, track.TX, track.TY])\n",
    "    pos[0] +=  dz*np.tan(track.TX)\n",
    "    pos[1] +=  dz*np.tan(track.TY)  \n",
    "    return pos"
   ]
  },
  {
   "cell_type": "code",
   "execution_count": 15,
   "metadata": {
    "collapsed": false
   },
   "outputs": [],
   "source": [
    "brick2 = train.query('brick_number == 2')"
   ]
  },
  {
   "cell_type": "code",
   "execution_count": 17,
   "metadata": {
    "collapsed": false
   },
   "outputs": [
    {
     "data": {
      "text/plain": [
       "array([15847, 20217,  4299], dtype=int64)"
      ]
     },
     "execution_count": 17,
     "metadata": {},
     "output_type": "execute_result"
    }
   ],
   "source": [
    "brick2.query('signal == 1').event_id.unique()"
   ]
  },
  {
   "cell_type": "markdown",
   "metadata": {},
   "source": [
    "Примерный план обработки:\n",
    "    <ul>\n",
    "    <li> Разобрать треки по кирпичам\n",
    "    <li> Отсортировать по расстоянию z, т.е. по слоям. Подумать о введении дополнительной переменной \"слой\"\n",
    "    <li> Отсортировать по координате X\n",
    "    <li> Начать перебор с начала кирпича.\n",
    "    </ul>"
   ]
  },
  {
   "cell_type": "code",
   "execution_count": 89,
   "metadata": {
    "collapsed": false
   },
   "outputs": [],
   "source": [
    "idx1 = 3901599\n",
    "idx2 = 3670692\n",
    "prediction = getPosition(train.iloc[idx1,:],18102.0-16809.0)"
   ]
  },
  {
   "cell_type": "code",
   "execution_count": 133,
   "metadata": {
    "collapsed": true
   },
   "outputs": [],
   "source": [
    "dx = 20 # estimation of error along OX axis\n",
    "dy = 20 # estimation of error along OY axis\n",
    "dtx = 0.01\n",
    "dty = 0.01"
   ]
  },
  {
   "cell_type": "code",
   "execution_count": 43,
   "metadata": {
    "collapsed": true
   },
   "outputs": [],
   "source": [
    "# add new feature - layer number"
   ]
  },
  {
   "cell_type": "code",
   "execution_count": 66,
   "metadata": {
    "collapsed": false
   },
   "outputs": [],
   "source": [
    "zPos = np.sort(event15847.Z.unique())\n",
    "zPosDict = dict(enumerate(z)) # dictionary of positions (layerNumber => position)\n",
    "zDiffDict = dict(enumerate(np.diff(zPos))) # dictionaru of distances (layerNumber => distance to the next layer)\n",
    "layerDict = {v: k for k, v in zPosDict.iteritems() } # dictionary of layer number (position => layerNumber)"
   ]
  },
  {
   "cell_type": "code",
   "execution_count": 78,
   "metadata": {
    "collapsed": false
   },
   "outputs": [],
   "source": [
    "event15847 = event15847.assign(layer = event15847.Z.map(layerDict))"
   ]
  },
  {
   "cell_type": "code",
   "execution_count": 87,
   "metadata": {
    "collapsed": false
   },
   "outputs": [
    {
     "data": {
      "text/html": [
       "<div>\n",
       "<table border=\"1\" class=\"dataframe\">\n",
       "  <thead>\n",
       "    <tr style=\"text-align: right;\">\n",
       "      <th></th>\n",
       "      <th>event_id</th>\n",
       "      <th>X</th>\n",
       "      <th>Y</th>\n",
       "      <th>Z</th>\n",
       "      <th>TX</th>\n",
       "      <th>TY</th>\n",
       "      <th>chi2</th>\n",
       "      <th>signal</th>\n",
       "      <th>brick_number</th>\n",
       "      <th>layer</th>\n",
       "    </tr>\n",
       "    <tr>\n",
       "      <th>index</th>\n",
       "      <th></th>\n",
       "      <th></th>\n",
       "      <th></th>\n",
       "      <th></th>\n",
       "      <th></th>\n",
       "      <th></th>\n",
       "      <th></th>\n",
       "      <th></th>\n",
       "      <th></th>\n",
       "      <th></th>\n",
       "    </tr>\n",
       "  </thead>\n",
       "  <tbody>\n",
       "    <tr>\n",
       "      <th>3901599</th>\n",
       "      <td>15847</td>\n",
       "      <td>35281.085938</td>\n",
       "      <td>28812.714844</td>\n",
       "      <td>16809.0</td>\n",
       "      <td>0.096675</td>\n",
       "      <td>0.051116</td>\n",
       "      <td>0.568254</td>\n",
       "      <td>1.0</td>\n",
       "      <td>2</td>\n",
       "      <td>0</td>\n",
       "    </tr>\n",
       "    <tr>\n",
       "      <th>3670692</th>\n",
       "      <td>15847</td>\n",
       "      <td>35407.148438</td>\n",
       "      <td>28880.599609</td>\n",
       "      <td>18102.0</td>\n",
       "      <td>0.101562</td>\n",
       "      <td>0.052474</td>\n",
       "      <td>0.318941</td>\n",
       "      <td>1.0</td>\n",
       "      <td>2</td>\n",
       "      <td>1</td>\n",
       "    </tr>\n",
       "    <tr>\n",
       "      <th>101836</th>\n",
       "      <td>15847</td>\n",
       "      <td>35535.875000</td>\n",
       "      <td>28950.218750</td>\n",
       "      <td>19395.0</td>\n",
       "      <td>0.104953</td>\n",
       "      <td>0.056952</td>\n",
       "      <td>0.966164</td>\n",
       "      <td>1.0</td>\n",
       "      <td>2</td>\n",
       "      <td>2</td>\n",
       "    </tr>\n",
       "    <tr>\n",
       "      <th>2639629</th>\n",
       "      <td>15847</td>\n",
       "      <td>35667.257812</td>\n",
       "      <td>29018.583984</td>\n",
       "      <td>20688.0</td>\n",
       "      <td>0.101516</td>\n",
       "      <td>0.056934</td>\n",
       "      <td>1.357672</td>\n",
       "      <td>1.0</td>\n",
       "      <td>2</td>\n",
       "      <td>3</td>\n",
       "    </tr>\n",
       "    <tr>\n",
       "      <th>3443804</th>\n",
       "      <td>15847</td>\n",
       "      <td>35798.773438</td>\n",
       "      <td>29085.591797</td>\n",
       "      <td>21981.0</td>\n",
       "      <td>0.102604</td>\n",
       "      <td>0.048461</td>\n",
       "      <td>1.086284</td>\n",
       "      <td>1.0</td>\n",
       "      <td>2</td>\n",
       "      <td>4</td>\n",
       "    </tr>\n",
       "  </tbody>\n",
       "</table>\n",
       "</div>"
      ],
      "text/plain": [
       "         event_id             X             Y        Z        TX        TY  \\\n",
       "index                                                                        \n",
       "3901599     15847  35281.085938  28812.714844  16809.0  0.096675  0.051116   \n",
       "3670692     15847  35407.148438  28880.599609  18102.0  0.101562  0.052474   \n",
       "101836      15847  35535.875000  28950.218750  19395.0  0.104953  0.056952   \n",
       "2639629     15847  35667.257812  29018.583984  20688.0  0.101516  0.056934   \n",
       "3443804     15847  35798.773438  29085.591797  21981.0  0.102604  0.048461   \n",
       "\n",
       "             chi2  signal  brick_number  layer  \n",
       "index                                           \n",
       "3901599  0.568254     1.0             2      0  \n",
       "3670692  0.318941     1.0             2      1  \n",
       "101836   0.966164     1.0             2      2  \n",
       "2639629  1.357672     1.0             2      3  \n",
       "3443804  1.086284     1.0             2      4  "
      ]
     },
     "execution_count": 87,
     "metadata": {},
     "output_type": "execute_result"
    }
   ],
   "source": [
    "event15847.sort_values(by='layer',ascending=True).head()"
   ]
  },
  {
   "cell_type": "code",
   "execution_count": 100,
   "metadata": {
    "collapsed": true
   },
   "outputs": [],
   "source": [
    "brick = brick2"
   ]
  },
  {
   "cell_type": "code",
   "execution_count": 107,
   "metadata": {
    "collapsed": true
   },
   "outputs": [],
   "source": [
    "# create dictionaries\n",
    "zPos = np.sort(brick.Z.unique())\n",
    "zPosDict = dict(enumerate(zPos)) # dictionary of positions (layerNumber => position)\n",
    "zDiffDict = dict(enumerate(np.diff(zPos))) # dictionaru of distances (layerNumber => distance to the next layer)\n",
    "layerDict = {v: k for k, v in zPosDict.iteritems() } # dictionary of layer number (position => layerNumber)\n",
    "\n",
    "# add extra feature - layer number\n",
    "brick = brick.assign(layerId = brick.Z.map(layerDict))"
   ]
  },
  {
   "cell_type": "code",
   "execution_count": 125,
   "metadata": {
    "collapsed": false
   },
   "outputs": [
    {
     "data": {
      "text/plain": [
       "array([  3.54064776e+04,   2.88788655e+04,   9.66750383e-02,\n",
       "         5.11160716e-02])"
      ]
     },
     "execution_count": 125,
     "metadata": {},
     "output_type": "execute_result"
    }
   ],
   "source": [
    "idx1 = 3901599\n",
    "idx2 = 3670692\n",
    "layerId = brick.loc[idx1].layerId\n",
    "prediction = getPosition(brick.loc[idx1],zDiffDict.get(layerId))\n",
    "prediction"
   ]
  },
  {
   "cell_type": "code",
   "execution_count": 157,
   "metadata": {
    "collapsed": false
   },
   "outputs": [
    {
     "data": {
      "text/plain": [
       "event_id        15847.000000\n",
       "X               35281.085938\n",
       "Y               28812.714844\n",
       "Z               16809.000000\n",
       "TX                  0.096675\n",
       "TY                  0.051116\n",
       "chi2                0.568254\n",
       "signal              1.000000\n",
       "brick_number        2.000000\n",
       "layerId            13.000000\n",
       "Name: 3901599, dtype: float64"
      ]
     },
     "execution_count": 157,
     "metadata": {},
     "output_type": "execute_result"
    }
   ],
   "source": [
    "brick.loc[idx1]"
   ]
  },
  {
   "cell_type": "code",
   "execution_count": 132,
   "metadata": {
    "collapsed": false
   },
   "outputs": [
    {
     "data": {
      "text/plain": [
       "event_id        15847.000000\n",
       "X               35407.148438\n",
       "Y               28880.599609\n",
       "Z               18102.000000\n",
       "TX                  0.101562\n",
       "TY                  0.052474\n",
       "chi2                0.318941\n",
       "signal              1.000000\n",
       "brick_number        2.000000\n",
       "layerId            14.000000\n",
       "Name: 3670692, dtype: float64"
      ]
     },
     "execution_count": 132,
     "metadata": {},
     "output_type": "execute_result"
    }
   ],
   "source": [
    "brick.loc[idx2]"
   ]
  },
  {
   "cell_type": "code",
   "execution_count": 139,
   "metadata": {
    "collapsed": false
   },
   "outputs": [
    {
     "data": {
      "text/html": [
       "<div>\n",
       "<table border=\"1\" class=\"dataframe\">\n",
       "  <thead>\n",
       "    <tr style=\"text-align: right;\">\n",
       "      <th></th>\n",
       "      <th>event_id</th>\n",
       "      <th>X</th>\n",
       "      <th>Y</th>\n",
       "      <th>Z</th>\n",
       "      <th>TX</th>\n",
       "      <th>TY</th>\n",
       "      <th>chi2</th>\n",
       "      <th>signal</th>\n",
       "      <th>brick_number</th>\n",
       "      <th>layerId</th>\n",
       "    </tr>\n",
       "    <tr>\n",
       "      <th>index</th>\n",
       "      <th></th>\n",
       "      <th></th>\n",
       "      <th></th>\n",
       "      <th></th>\n",
       "      <th></th>\n",
       "      <th></th>\n",
       "      <th></th>\n",
       "      <th></th>\n",
       "      <th></th>\n",
       "      <th></th>\n",
       "    </tr>\n",
       "  </thead>\n",
       "  <tbody>\n",
       "    <tr>\n",
       "      <th>3670692</th>\n",
       "      <td>15847</td>\n",
       "      <td>35407.148438</td>\n",
       "      <td>28880.599609</td>\n",
       "      <td>18102.0</td>\n",
       "      <td>0.101562</td>\n",
       "      <td>0.052474</td>\n",
       "      <td>0.318941</td>\n",
       "      <td>1.0</td>\n",
       "      <td>2</td>\n",
       "      <td>14</td>\n",
       "    </tr>\n",
       "  </tbody>\n",
       "</table>\n",
       "</div>"
      ],
      "text/plain": [
       "         event_id             X             Y        Z        TX        TY  \\\n",
       "index                                                                        \n",
       "3670692     15847  35407.148438  28880.599609  18102.0  0.101562  0.052474   \n",
       "\n",
       "             chi2  signal  brick_number  layerId  \n",
       "index                                             \n",
       "3670692  0.318941     1.0             2       14  "
      ]
     },
     "execution_count": 139,
     "metadata": {},
     "output_type": "execute_result"
    }
   ],
   "source": [
    "set1 = brick.query('layerId == @layerId+1 & X > @prediction[0]-@dx & X < @prediction[0]+@dx & Y > @prediction[1]-@dy & Y < @prediction[1]+@dy & TX > @prediction[2]-@dtx & TX < @prediction[2]+@dtx & TY > @prediction[3]-@dty & TY < @prediction[2]+@dty')\n",
    "set1"
   ]
  },
  {
   "cell_type": "code",
   "execution_count": 154,
   "metadata": {
    "collapsed": true
   },
   "outputs": [],
   "source": [
    "layerId = 13\n",
    "layer0 = brick.query('layerId == @layerId')\n",
    "layer1 = brick.query('layerId == @layerId+1')\n",
    "#prediction = getPosition(brick.loc[idx1],zDiffDict.get(layerId))"
   ]
  },
  {
   "cell_type": "code",
   "execution_count": null,
   "metadata": {
    "collapsed": false
   },
   "outputs": [
    {
     "name": "stdout",
     "output_type": "stream",
     "text": [
      "         event_id             X             Y        Z        TX        TY  \\\n",
      "index                                                                        \n",
      "3670692     15847  35407.148438  28880.599609  18102.0  0.101562  0.052474   \n",
      "\n",
      "             chi2  signal  brick_number  layerId  \n",
      "index                                             \n",
      "3670692  0.318941     1.0             2       14  \n",
      "         event_id             X         Y        Z        TX        TY  \\\n",
      "index                                                                    \n",
      "9128074     20217  62038.144531  45176.75  18102.0  0.036812 -0.127202   \n",
      "\n",
      "             chi2  signal  brick_number  layerId  \n",
      "index                                             \n",
      "9128074  1.087758     1.0             2       14  \n"
     ]
    }
   ],
   "source": [
    "dz = zDiffDict.get(layerId)\n",
    "for trackId, trackRec in layer0.iterrows():\n",
    "    predPosition = getPosition(trackRec,dz)\n",
    "    #print trackId\n",
    "    q = layer1.query('X > @predPosition[0]-@dx & X < @predPosition[0]+@dx & Y > @predPosition[1]-@dy & Y < @predPosition[1]+@dy & TX > @predPosition[2]-@dtx & TX < @predPosition[2]+@dtx & TY > @predPosition[3]-@dty & TY < @predPosition[3]+@dty')\n",
    "    if q.shape[0] >0:\n",
    "        print q"
   ]
  },
  {
   "cell_type": "code",
   "execution_count": null,
   "metadata": {
    "collapsed": true
   },
   "outputs": [],
   "source": []
  }
 ],
 "metadata": {
  "kernelspec": {
   "display_name": "Python 2",
   "language": "python",
   "name": "python2"
  },
  "language_info": {
   "codemirror_mode": {
    "name": "ipython",
    "version": 2
   },
   "file_extension": ".py",
   "mimetype": "text/x-python",
   "name": "python",
   "nbconvert_exporter": "python",
   "pygments_lexer": "ipython2",
   "version": "2.7.13"
  }
 },
 "nbformat": 4,
 "nbformat_minor": 2
}
