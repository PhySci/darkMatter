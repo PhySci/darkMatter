{
 "cells": [
  {
   "cell_type": "code",
   "execution_count": 2,
   "metadata": {
    "collapsed": true
   },
   "outputs": [],
   "source": [
    "import pandas as pd\n",
    "import numpy as np\n",
    "import matplotlib.pyplot as plt\n",
    "import seaborn as sns\n",
    "%matplotlib inline"
   ]
  },
  {
   "cell_type": "code",
   "execution_count": 3,
   "metadata": {},
   "outputs": [
    {
     "name": "stderr",
     "output_type": "stream",
     "text": [
      "/home/frodos/anaconda/lib/python2.7/site-packages/numpy/lib/arraysetops.py:395: FutureWarning: elementwise comparison failed; returning scalar instead, but in the future will perform elementwise comparison\n",
      "  mask |= (ar1 == a)\n"
     ]
    },
    {
     "data": {
      "text/html": [
       "<div>\n",
       "<style>\n",
       "    .dataframe thead tr:only-child th {\n",
       "        text-align: right;\n",
       "    }\n",
       "\n",
       "    .dataframe thead th {\n",
       "        text-align: left;\n",
       "    }\n",
       "\n",
       "    .dataframe tbody tr th {\n",
       "        vertical-align: top;\n",
       "    }\n",
       "</style>\n",
       "<table border=\"1\" class=\"dataframe\">\n",
       "  <thead>\n",
       "    <tr style=\"text-align: right;\">\n",
       "      <th></th>\n",
       "      <th>event_id</th>\n",
       "      <th>X</th>\n",
       "      <th>Y</th>\n",
       "      <th>Z</th>\n",
       "      <th>TX</th>\n",
       "      <th>TY</th>\n",
       "      <th>chi2</th>\n",
       "      <th>signal</th>\n",
       "      <th>brick_number</th>\n",
       "    </tr>\n",
       "    <tr>\n",
       "      <th>index</th>\n",
       "      <th></th>\n",
       "      <th></th>\n",
       "      <th></th>\n",
       "      <th></th>\n",
       "      <th></th>\n",
       "      <th></th>\n",
       "      <th></th>\n",
       "      <th></th>\n",
       "      <th></th>\n",
       "    </tr>\n",
       "  </thead>\n",
       "  <tbody>\n",
       "    <tr>\n",
       "      <th>0</th>\n",
       "      <td>-999</td>\n",
       "      <td>66162.843750</td>\n",
       "      <td>65620.031250</td>\n",
       "      <td>0.0</td>\n",
       "      <td>0.166890</td>\n",
       "      <td>0.276674</td>\n",
       "      <td>2.988714</td>\n",
       "      <td>0.0</td>\n",
       "      <td>44</td>\n",
       "    </tr>\n",
       "    <tr>\n",
       "      <th>1</th>\n",
       "      <td>-999</td>\n",
       "      <td>43900.445312</td>\n",
       "      <td>67091.671875</td>\n",
       "      <td>0.0</td>\n",
       "      <td>-0.179967</td>\n",
       "      <td>-0.478795</td>\n",
       "      <td>1.901420</td>\n",
       "      <td>0.0</td>\n",
       "      <td>98</td>\n",
       "    </tr>\n",
       "    <tr>\n",
       "      <th>2</th>\n",
       "      <td>-999</td>\n",
       "      <td>37564.019531</td>\n",
       "      <td>26618.890625</td>\n",
       "      <td>55599.0</td>\n",
       "      <td>-0.267820</td>\n",
       "      <td>-0.282087</td>\n",
       "      <td>2.510245</td>\n",
       "      <td>0.0</td>\n",
       "      <td>64</td>\n",
       "    </tr>\n",
       "    <tr>\n",
       "      <th>3</th>\n",
       "      <td>-999</td>\n",
       "      <td>39380.027344</td>\n",
       "      <td>48135.425781</td>\n",
       "      <td>19395.0</td>\n",
       "      <td>0.265197</td>\n",
       "      <td>-0.577493</td>\n",
       "      <td>1.215219</td>\n",
       "      <td>0.0</td>\n",
       "      <td>63</td>\n",
       "    </tr>\n",
       "    <tr>\n",
       "      <th>4</th>\n",
       "      <td>-999</td>\n",
       "      <td>65040.781250</td>\n",
       "      <td>44018.468750</td>\n",
       "      <td>12930.0</td>\n",
       "      <td>-0.711161</td>\n",
       "      <td>-0.245592</td>\n",
       "      <td>2.973661</td>\n",
       "      <td>0.0</td>\n",
       "      <td>2</td>\n",
       "    </tr>\n",
       "  </tbody>\n",
       "</table>\n",
       "</div>"
      ],
      "text/plain": [
       "       event_id             X             Y        Z        TX        TY  \\\n",
       "index                                                                      \n",
       "0          -999  66162.843750  65620.031250      0.0  0.166890  0.276674   \n",
       "1          -999  43900.445312  67091.671875      0.0 -0.179967 -0.478795   \n",
       "2          -999  37564.019531  26618.890625  55599.0 -0.267820 -0.282087   \n",
       "3          -999  39380.027344  48135.425781  19395.0  0.265197 -0.577493   \n",
       "4          -999  65040.781250  44018.468750  12930.0 -0.711161 -0.245592   \n",
       "\n",
       "           chi2  signal  brick_number  \n",
       "index                                  \n",
       "0      2.988714     0.0            44  \n",
       "1      1.901420     0.0            98  \n",
       "2      2.510245     0.0            64  \n",
       "3      1.215219     0.0            63  \n",
       "4      2.973661     0.0             2  "
      ]
     },
     "execution_count": 3,
     "metadata": {},
     "output_type": "execute_result"
    }
   ],
   "source": [
    "train = pd.read_csv('./data/train.csv',index_col='index')\n",
    "train.head()"
   ]
  },
  {
   "cell_type": "code",
   "execution_count": 4,
   "metadata": {},
   "outputs": [
    {
     "name": "stdout",
     "output_type": "stream",
     "text": [
      "CPU times: user 0 ns, sys: 0 ns, total: 0 ns\n",
      "Wall time: 5.96 µs\n"
     ]
    }
   ],
   "source": [
    "%%time\n",
    "def getTracks(layer0,layer1,dx,dy,dtx,dty,dz):\n",
    "    '''\n",
    "    layer0, layer1 - Pandas dataframe with track parameters\n",
    "    dx, dy, dtx, dty - errors of parameters\n",
    "    dz - distance between layer1 and layer0\n",
    "    '''\n",
    "\n",
    "    layer0Arr = layer0.reset_index().as_matrix(columns = ['index', 'X', 'Y', 'TX', 'TY', 'signal'])\n",
    "    layer1Arr = layer1.sort_values(by='X',ascending=True).reset_index().as_matrix(columns = ['index', 'X', 'Y', 'TX', 'TY', 'signal'])\n",
    "\n",
    "    res = np.empty([0,10])\n",
    "    for track in layer0Arr:\n",
    "        #calculate new pos\n",
    "        newX  = track[1]+dz*np.tan(track[3])\n",
    "        newY  = track[2]+dz*np.tan(track[4])\n",
    "        newTX = track[3]\n",
    "        newTY = track[4]\n",
    "\n",
    "        #print \n",
    "        lEdge = np.searchsorted(layer1Arr[:,1],newX-dx,side='left')\n",
    "        rEdge = np.searchsorted(layer1Arr[:,1],newX+dx,side='right')\n",
    "        subSet = layer1Arr[lEdge:rEdge,:]\n",
    "        subSet = subSet[np.where((subSet[:,2]>newY-dy) &  (subSet[:,2]<newY+dy) & (subSet[:,3]>newTX-dtx) & (subSet[:,3]<newTX+dtx) & (subSet[:,4]>newTY-dty) & (subSet[:,4]<newTY+dty)),:][0]\n",
    "\n",
    "        if subSet.shape[0] > 0:\n",
    "            #print subSet\n",
    "            r = np.sqrt(np.power(subSet[:,1]-newX,2)+np.power(subSet[:,2]-newY,2))\n",
    "            da = subSet[:,3]-newTX\n",
    "            db = subSet[:,4]-newTY\n",
    "            subSet = np.hstack((subSet,np.expand_dims(r,1),np.expand_dims(da,1),np.expand_dims(db,1),track[0]*np.ones([db.shape[0],1])))\n",
    "            res = np.vstack((res,subSet))\n",
    "\n",
    "    return res        "
   ]
  },
  {
   "cell_type": "code",
   "execution_count": 5,
   "metadata": {},
   "outputs": [
    {
     "name": "stdout",
     "output_type": "stream",
     "text": [
      "Done\n"
     ]
    }
   ],
   "source": [
    "finalArr = np.ones([0,10])\n",
    "\n",
    "dx  = 100 # estimation of error along OX axis\n",
    "dy  = 100 # estimation of error along OY axis\n",
    "dtx = 0.2\n",
    "dty = 0.2\n",
    "\n",
    "for brickId, brick in train.groupby('brick_number'):\n",
    "\n",
    "    # create dictionaries\n",
    "    zPos = np.sort(brick.Z.unique())\n",
    "    zPosDict = dict(enumerate(zPos)) # dictionary of positions (layerNumber => position)\n",
    "    zDiffDict = dict(enumerate(np.diff(zPos))) # dictionaru of distances (layerNumber => distance to the next layer)\n",
    "    layerDict = {v: k for k, v in zPosDict.iteritems() } # dictionary of layer number (position => layerNumber)\n",
    "\n",
    "    # add extra feature - layer number\n",
    "    brick = brick.assign(layerId = brick.Z.map(layerDict))\n",
    "\n",
    "\n",
    "    ## name of colums\n",
    "    cols = ['index', 'X', 'Y', 'TX', 'TY', 'signal', 'r', 'da', 'db', 'parent']\n",
    "\n",
    "    for layerId in np.sort(brick.layerId.unique())[0:-1]:\n",
    "        dz = zDiffDict.get(layerId)\n",
    "\n",
    "        layer0 = brick.query('layerId == @layerId')\n",
    "        layer1 = brick.query('layerId == @layerId+1')\n",
    "        arr = getTracks(layer0,layer1,dx,dy,dtx,dty,dz)\n",
    "        finalArr = np.vstack([finalArr,arr])\n",
    "        \n",
    "fdf = pd.DataFrame(finalArr,columns=cols)\n",
    "print 'Done'"
   ]
  },
  {
   "cell_type": "code",
   "execution_count": 6,
   "metadata": {},
   "outputs": [
    {
     "data": {
      "text/html": [
       "<div>\n",
       "<style>\n",
       "    .dataframe thead tr:only-child th {\n",
       "        text-align: right;\n",
       "    }\n",
       "\n",
       "    .dataframe thead th {\n",
       "        text-align: left;\n",
       "    }\n",
       "\n",
       "    .dataframe tbody tr th {\n",
       "        vertical-align: top;\n",
       "    }\n",
       "</style>\n",
       "<table border=\"1\" class=\"dataframe\">\n",
       "  <thead>\n",
       "    <tr style=\"text-align: right;\">\n",
       "      <th></th>\n",
       "      <th>X</th>\n",
       "      <th>Y</th>\n",
       "      <th>TX</th>\n",
       "      <th>TY</th>\n",
       "      <th>signal</th>\n",
       "      <th>r</th>\n",
       "      <th>da</th>\n",
       "      <th>db</th>\n",
       "      <th>parent</th>\n",
       "    </tr>\n",
       "    <tr>\n",
       "      <th>index</th>\n",
       "      <th></th>\n",
       "      <th></th>\n",
       "      <th></th>\n",
       "      <th></th>\n",
       "      <th></th>\n",
       "      <th></th>\n",
       "      <th></th>\n",
       "      <th></th>\n",
       "      <th></th>\n",
       "    </tr>\n",
       "  </thead>\n",
       "  <tbody>\n",
       "    <tr>\n",
       "      <th>892028.0</th>\n",
       "      <td>65944.695312</td>\n",
       "      <td>66873.703125</td>\n",
       "      <td>0.372805</td>\n",
       "      <td>-0.018341</td>\n",
       "      <td>0.0</td>\n",
       "      <td>127.594544</td>\n",
       "      <td>-0.076972</td>\n",
       "      <td>-0.194308</td>\n",
       "      <td>3367701.0</td>\n",
       "    </tr>\n",
       "    <tr>\n",
       "      <th>774883.0</th>\n",
       "      <td>30086.503906</td>\n",
       "      <td>56736.628906</td>\n",
       "      <td>-0.327097</td>\n",
       "      <td>0.077269</td>\n",
       "      <td>0.0</td>\n",
       "      <td>94.477411</td>\n",
       "      <td>0.090072</td>\n",
       "      <td>-0.005022</td>\n",
       "      <td>9314219.0</td>\n",
       "    </tr>\n",
       "    <tr>\n",
       "      <th>2741636.0</th>\n",
       "      <td>54708.191406</td>\n",
       "      <td>47517.656250</td>\n",
       "      <td>-0.234412</td>\n",
       "      <td>0.192783</td>\n",
       "      <td>0.0</td>\n",
       "      <td>93.918329</td>\n",
       "      <td>-0.003832</td>\n",
       "      <td>-0.068173</td>\n",
       "      <td>129033.0</td>\n",
       "    </tr>\n",
       "    <tr>\n",
       "      <th>5107504.0</th>\n",
       "      <td>36029.890625</td>\n",
       "      <td>37156.414062</td>\n",
       "      <td>-0.024786</td>\n",
       "      <td>0.337202</td>\n",
       "      <td>0.0</td>\n",
       "      <td>46.648367</td>\n",
       "      <td>0.117150</td>\n",
       "      <td>0.098270</td>\n",
       "      <td>4425962.0</td>\n",
       "    </tr>\n",
       "    <tr>\n",
       "      <th>9250117.0</th>\n",
       "      <td>66673.132812</td>\n",
       "      <td>41541.593750</td>\n",
       "      <td>0.182478</td>\n",
       "      <td>-0.260138</td>\n",
       "      <td>0.0</td>\n",
       "      <td>11.381803</td>\n",
       "      <td>0.015811</td>\n",
       "      <td>0.188095</td>\n",
       "      <td>7066409.0</td>\n",
       "    </tr>\n",
       "  </tbody>\n",
       "</table>\n",
       "</div>"
      ],
      "text/plain": [
       "                      X             Y        TX        TY  signal           r  \\\n",
       "index                                                                           \n",
       "892028.0   65944.695312  66873.703125  0.372805 -0.018341     0.0  127.594544   \n",
       "774883.0   30086.503906  56736.628906 -0.327097  0.077269     0.0   94.477411   \n",
       "2741636.0  54708.191406  47517.656250 -0.234412  0.192783     0.0   93.918329   \n",
       "5107504.0  36029.890625  37156.414062 -0.024786  0.337202     0.0   46.648367   \n",
       "9250117.0  66673.132812  41541.593750  0.182478 -0.260138     0.0   11.381803   \n",
       "\n",
       "                 da        db     parent  \n",
       "index                                     \n",
       "892028.0  -0.076972 -0.194308  3367701.0  \n",
       "774883.0   0.090072 -0.005022  9314219.0  \n",
       "2741636.0 -0.003832 -0.068173   129033.0  \n",
       "5107504.0  0.117150  0.098270  4425962.0  \n",
       "9250117.0  0.015811  0.188095  7066409.0  "
      ]
     },
     "execution_count": 6,
     "metadata": {},
     "output_type": "execute_result"
    }
   ],
   "source": [
    "fdf = pd.DataFrame(finalArr,columns=cols)\n",
    "fdf.set_index('index',inplace=True)\n",
    "fdf.head()"
   ]
  },
  {
   "cell_type": "code",
   "execution_count": 7,
   "metadata": {},
   "outputs": [
    {
     "data": {
      "image/png": "[encoded data removed]",
      "text/plain": [
       "<matplotlib.figure.Figure at 0x7f1c0a15a310>"
      ]
     },
     "metadata": {},
     "output_type": "display_data"
    }
   ],
   "source": [
    "plt.figure(figsize=[15,15])\n",
    "plt.subplot(311)\n",
    "sns.violinplot(y=\"da\", x = \"signal\", data=fdf, split=True);\n",
    "\n",
    "plt.subplot(312)\n",
    "sns.violinplot(y=\"db\", x = \"signal\", data=fdf, split=True);\n",
    "\n",
    "plt.subplot(313)\n",
    "sns.violinplot(y=\"r\", x = \"signal\", data=fdf, split=True);"
   ]
  },
  {
   "cell_type": "code",
   "execution_count": 8,
   "metadata": {},
   "outputs": [
    {
     "data": {
      "text/plain": [
       "<matplotlib.axes._subplots.AxesSubplot at 0x7f1c096a7550>"
      ]
     },
     "execution_count": 8,
     "metadata": {},
     "output_type": "execute_result"
    },
    {
     "data": {
      "image/png": "[encoded data removed]",
      "text/plain": [
       "<matplotlib.figure.Figure at 0x7f1c0a20ae90>"
      ]
     },
     "metadata": {},
     "output_type": "display_data"
    }
   ],
   "source": [
    "fdf.signal.hist()"
   ]
  },
  {
   "cell_type": "code",
   "execution_count": 9,
   "metadata": {},
   "outputs": [
    {
     "data": {
      "text/html": [
       "<div>\n",
       "<style>\n",
       "    .dataframe thead tr:only-child th {\n",
       "        text-align: right;\n",
       "    }\n",
       "\n",
       "    .dataframe thead th {\n",
       "        text-align: left;\n",
       "    }\n",
       "\n",
       "    .dataframe tbody tr th {\n",
       "        vertical-align: top;\n",
       "    }\n",
       "</style>\n",
       "<table border=\"1\" class=\"dataframe\">\n",
       "  <thead>\n",
       "    <tr style=\"text-align: right;\">\n",
       "      <th></th>\n",
       "      <th>X</th>\n",
       "      <th>Y</th>\n",
       "      <th>TX</th>\n",
       "      <th>TY</th>\n",
       "      <th>signal</th>\n",
       "      <th>r</th>\n",
       "      <th>da</th>\n",
       "      <th>db</th>\n",
       "      <th>parent</th>\n",
       "    </tr>\n",
       "    <tr>\n",
       "      <th>index</th>\n",
       "      <th></th>\n",
       "      <th></th>\n",
       "      <th></th>\n",
       "      <th></th>\n",
       "      <th></th>\n",
       "      <th></th>\n",
       "      <th></th>\n",
       "      <th></th>\n",
       "      <th></th>\n",
       "    </tr>\n",
       "  </thead>\n",
       "  <tbody>\n",
       "    <tr>\n",
       "      <th>892028.0</th>\n",
       "      <td>65944.695312</td>\n",
       "      <td>66873.703125</td>\n",
       "      <td>0.372805</td>\n",
       "      <td>-0.018341</td>\n",
       "      <td>0.0</td>\n",
       "      <td>127.594544</td>\n",
       "      <td>-0.076972</td>\n",
       "      <td>-0.194308</td>\n",
       "      <td>3367701.0</td>\n",
       "    </tr>\n",
       "    <tr>\n",
       "      <th>774883.0</th>\n",
       "      <td>30086.503906</td>\n",
       "      <td>56736.628906</td>\n",
       "      <td>-0.327097</td>\n",
       "      <td>0.077269</td>\n",
       "      <td>0.0</td>\n",
       "      <td>94.477411</td>\n",
       "      <td>0.090072</td>\n",
       "      <td>-0.005022</td>\n",
       "      <td>9314219.0</td>\n",
       "    </tr>\n",
       "    <tr>\n",
       "      <th>2741636.0</th>\n",
       "      <td>54708.191406</td>\n",
       "      <td>47517.656250</td>\n",
       "      <td>-0.234412</td>\n",
       "      <td>0.192783</td>\n",
       "      <td>0.0</td>\n",
       "      <td>93.918329</td>\n",
       "      <td>-0.003832</td>\n",
       "      <td>-0.068173</td>\n",
       "      <td>129033.0</td>\n",
       "    </tr>\n",
       "    <tr>\n",
       "      <th>5107504.0</th>\n",
       "      <td>36029.890625</td>\n",
       "      <td>37156.414062</td>\n",
       "      <td>-0.024786</td>\n",
       "      <td>0.337202</td>\n",
       "      <td>0.0</td>\n",
       "      <td>46.648367</td>\n",
       "      <td>0.117150</td>\n",
       "      <td>0.098270</td>\n",
       "      <td>4425962.0</td>\n",
       "    </tr>\n",
       "    <tr>\n",
       "      <th>9250117.0</th>\n",
       "      <td>66673.132812</td>\n",
       "      <td>41541.593750</td>\n",
       "      <td>0.182478</td>\n",
       "      <td>-0.260138</td>\n",
       "      <td>0.0</td>\n",
       "      <td>11.381803</td>\n",
       "      <td>0.015811</td>\n",
       "      <td>0.188095</td>\n",
       "      <td>7066409.0</td>\n",
       "    </tr>\n",
       "  </tbody>\n",
       "</table>\n",
       "</div>"
      ],
      "text/plain": [
       "                      X             Y        TX        TY  signal           r  \\\n",
       "index                                                                           \n",
       "892028.0   65944.695312  66873.703125  0.372805 -0.018341     0.0  127.594544   \n",
       "774883.0   30086.503906  56736.628906 -0.327097  0.077269     0.0   94.477411   \n",
       "2741636.0  54708.191406  47517.656250 -0.234412  0.192783     0.0   93.918329   \n",
       "5107504.0  36029.890625  37156.414062 -0.024786  0.337202     0.0   46.648367   \n",
       "9250117.0  66673.132812  41541.593750  0.182478 -0.260138     0.0   11.381803   \n",
       "\n",
       "                 da        db     parent  \n",
       "index                                     \n",
       "892028.0  -0.076972 -0.194308  3367701.0  \n",
       "774883.0   0.090072 -0.005022  9314219.0  \n",
       "2741636.0 -0.003832 -0.068173   129033.0  \n",
       "5107504.0  0.117150  0.098270  4425962.0  \n",
       "9250117.0  0.015811  0.188095  7066409.0  "
      ]
     },
     "execution_count": 9,
     "metadata": {},
     "output_type": "execute_result"
    }
   ],
   "source": [
    "fdf.head()"
   ]
  },
  {
   "cell_type": "code",
   "execution_count": 10,
   "metadata": {
    "collapsed": true
   },
   "outputs": [],
   "source": [
    "#from sklearn.svm import SVC\n",
    "#clf = SVC(probability=True)"
   ]
  },
  {
   "cell_type": "code",
   "execution_count": 11,
   "metadata": {
    "collapsed": true
   },
   "outputs": [],
   "source": [
    "#clf.fit(fdf.loc[:,['X','Y','TX','TY','r','da','db']], fdf.signal)"
   ]
  },
  {
   "cell_type": "markdown",
   "metadata": {
    "collapsed": true
   },
   "source": [
    "Что можно сделать:\n",
    "- ввести фиксированную ошибку по углам, а уже из неё определять площадь ошибки"
   ]
  },
  {
   "cell_type": "code",
   "execution_count": 18,
   "metadata": {
    "collapsed": true
   },
   "outputs": [],
   "source": [
    "from sklearn.tree import DecisionTreeClassifier\n",
    "clf = DecisionTreeClassifier(random_state=0)"
   ]
  },
  {
   "cell_type": "code",
   "execution_count": 29,
   "metadata": {},
   "outputs": [],
   "source": [
    "X = fdf.loc[:,['X','Y','TX','TY','r','da','db']]\n",
    "Y = fdf.signal\n",
    "#clf.fit()"
   ]
  },
  {
   "cell_type": "code",
   "execution_count": 21,
   "metadata": {},
   "outputs": [],
   "source": [
    "res = clf.predict(fdf.loc[:,['X','Y','TX','TY','r','da','db']])"
   ]
  },
  {
   "cell_type": "code",
   "execution_count": 23,
   "metadata": {},
   "outputs": [
    {
     "data": {
      "text/plain": [
       "1.0"
      ]
     },
     "execution_count": 23,
     "metadata": {},
     "output_type": "execute_result"
    }
   ],
   "source": [
    "clf.score(fdf.loc[:,['X','Y','TX','TY','r','da','db']],fdf.signal)"
   ]
  },
  {
   "cell_type": "code",
   "execution_count": 25,
   "metadata": {},
   "outputs": [],
   "source": [
    "pr = clf.predict_proba(fdf.loc[:,['X','Y','TX','TY','r','da','db']])"
   ]
  },
  {
   "cell_type": "code",
   "execution_count": 27,
   "metadata": {},
   "outputs": [
    {
     "data": {
      "text/plain": [
       "([array([ 322278.,       0.,       0.,       0.,       0.,       0.,\n",
       "               0.,       0.,       0.,   22918.]),\n",
       "  array([  22918.,       0.,       0.,       0.,       0.,       0.,\n",
       "               0.,       0.,       0.,  322278.])],\n",
       " array([ 0. ,  0.1,  0.2,  0.3,  0.4,  0.5,  0.6,  0.7,  0.8,  0.9,  1. ]),\n",
       " <a list of 2 Lists of Patches objects>)"
      ]
     },
     "execution_count": 27,
     "metadata": {},
     "output_type": "execute_result"
    },
    {
     "data": {
      "image/png": "[encoded data removed]",
      "text/plain": [
       "<matplotlib.figure.Figure at 0x7f1bf9776510>"
      ]
     },
     "metadata": {},
     "output_type": "display_data"
    }
   ],
   "source": [
    "plt.hist(pr)"
   ]
  },
  {
   "cell_type": "code",
   "execution_count": 34,
   "metadata": {},
   "outputs": [],
   "source": [
    "from sklearn.naive_bayes import GaussianNB\n",
    "clf = GaussianNB()"
   ]
  },
  {
   "cell_type": "code",
   "execution_count": null,
   "metadata": {},
   "outputs": [],
   "source": [
    "from sklearn.model_selection import cross_val_score\n",
    "from sklearn.svm import SVC\n",
    "clf = SVC(kernel='linear', C=1)\n",
    "scores = cross_val_score(clf, X, Y, cv=5)"
   ]
  },
  {
   "cell_type": "code",
   "execution_count": null,
   "metadata": {},
   "outputs": [],
   "source": [
    "scores"
   ]
  },
  {
   "cell_type": "code",
   "execution_count": null,
   "metadata": {
    "collapsed": true
   },
   "outputs": [],
   "source": []
  }
 ],
 "metadata": {
  "kernelspec": {
   "display_name": "Python 2",
   "language": "python",
   "name": "python2"
  },
  "language_info": {
   "codemirror_mode": {
    "name": "ipython",
    "version": 2
   },
   "file_extension": ".py",
   "mimetype": "text/x-python",
   "name": "python",
   "nbconvert_exporter": "python",
   "pygments_lexer": "ipython2",
   "version": "2.7.13"
  }
 },
 "nbformat": 4,
 "nbformat_minor": 2
}
