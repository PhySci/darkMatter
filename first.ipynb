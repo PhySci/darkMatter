{
 "cells": [
  {
   "cell_type": "code",
   "execution_count": 1,
   "metadata": {
    "collapsed": true
   },
   "outputs": [],
   "source": [
    "import pandas as pd\n",
    "import numpy as np\n",
    "import matplotlib.pyplot as plt\n",
    "%matplotlib inline"
   ]
  },
  {
   "cell_type": "code",
   "execution_count": 2,
   "metadata": {},
   "outputs": [
    {
     "name": "stderr",
     "output_type": "stream",
     "text": [
      "/home/frodos/anaconda/lib/python2.7/site-packages/numpy/lib/arraysetops.py:395: FutureWarning: elementwise comparison failed; returning scalar instead, but in the future will perform elementwise comparison\n",
      "  mask |= (ar1 == a)\n"
     ]
    },
    {
     "data": {
      "text/html": [
       "<div>\n",
       "<style>\n",
       "    .dataframe thead tr:only-child th {\n",
       "        text-align: right;\n",
       "    }\n",
       "\n",
       "    .dataframe thead th {\n",
       "        text-align: left;\n",
       "    }\n",
       "\n",
       "    .dataframe tbody tr th {\n",
       "        vertical-align: top;\n",
       "    }\n",
       "</style>\n",
       "<table border=\"1\" class=\"dataframe\">\n",
       "  <thead>\n",
       "    <tr style=\"text-align: right;\">\n",
       "      <th></th>\n",
       "      <th>event_id</th>\n",
       "      <th>X</th>\n",
       "      <th>Y</th>\n",
       "      <th>Z</th>\n",
       "      <th>TX</th>\n",
       "      <th>TY</th>\n",
       "      <th>chi2</th>\n",
       "      <th>signal</th>\n",
       "      <th>brick_number</th>\n",
       "    </tr>\n",
       "    <tr>\n",
       "      <th>index</th>\n",
       "      <th></th>\n",
       "      <th></th>\n",
       "      <th></th>\n",
       "      <th></th>\n",
       "      <th></th>\n",
       "      <th></th>\n",
       "      <th></th>\n",
       "      <th></th>\n",
       "      <th></th>\n",
       "    </tr>\n",
       "  </thead>\n",
       "  <tbody>\n",
       "    <tr>\n",
       "      <th>0</th>\n",
       "      <td>-999</td>\n",
       "      <td>66162.843750</td>\n",
       "      <td>65620.031250</td>\n",
       "      <td>0.0</td>\n",
       "      <td>0.166890</td>\n",
       "      <td>0.276674</td>\n",
       "      <td>2.988714</td>\n",
       "      <td>0.0</td>\n",
       "      <td>44</td>\n",
       "    </tr>\n",
       "    <tr>\n",
       "      <th>1</th>\n",
       "      <td>-999</td>\n",
       "      <td>43900.445312</td>\n",
       "      <td>67091.671875</td>\n",
       "      <td>0.0</td>\n",
       "      <td>-0.179967</td>\n",
       "      <td>-0.478795</td>\n",
       "      <td>1.901420</td>\n",
       "      <td>0.0</td>\n",
       "      <td>98</td>\n",
       "    </tr>\n",
       "    <tr>\n",
       "      <th>2</th>\n",
       "      <td>-999</td>\n",
       "      <td>37564.019531</td>\n",
       "      <td>26618.890625</td>\n",
       "      <td>55599.0</td>\n",
       "      <td>-0.267820</td>\n",
       "      <td>-0.282087</td>\n",
       "      <td>2.510245</td>\n",
       "      <td>0.0</td>\n",
       "      <td>64</td>\n",
       "    </tr>\n",
       "    <tr>\n",
       "      <th>3</th>\n",
       "      <td>-999</td>\n",
       "      <td>39380.027344</td>\n",
       "      <td>48135.425781</td>\n",
       "      <td>19395.0</td>\n",
       "      <td>0.265197</td>\n",
       "      <td>-0.577493</td>\n",
       "      <td>1.215219</td>\n",
       "      <td>0.0</td>\n",
       "      <td>63</td>\n",
       "    </tr>\n",
       "    <tr>\n",
       "      <th>4</th>\n",
       "      <td>-999</td>\n",
       "      <td>65040.781250</td>\n",
       "      <td>44018.468750</td>\n",
       "      <td>12930.0</td>\n",
       "      <td>-0.711161</td>\n",
       "      <td>-0.245592</td>\n",
       "      <td>2.973661</td>\n",
       "      <td>0.0</td>\n",
       "      <td>2</td>\n",
       "    </tr>\n",
       "  </tbody>\n",
       "</table>\n",
       "</div>"
      ],
      "text/plain": [
       "       event_id             X             Y        Z        TX        TY  \\\n",
       "index                                                                      \n",
       "0          -999  66162.843750  65620.031250      0.0  0.166890  0.276674   \n",
       "1          -999  43900.445312  67091.671875      0.0 -0.179967 -0.478795   \n",
       "2          -999  37564.019531  26618.890625  55599.0 -0.267820 -0.282087   \n",
       "3          -999  39380.027344  48135.425781  19395.0  0.265197 -0.577493   \n",
       "4          -999  65040.781250  44018.468750  12930.0 -0.711161 -0.245592   \n",
       "\n",
       "           chi2  signal  brick_number  \n",
       "index                                  \n",
       "0      2.988714     0.0            44  \n",
       "1      1.901420     0.0            98  \n",
       "2      2.510245     0.0            64  \n",
       "3      1.215219     0.0            63  \n",
       "4      2.973661     0.0             2  "
      ]
     },
     "execution_count": 2,
     "metadata": {},
     "output_type": "execute_result"
    }
   ],
   "source": [
    "train = pd.read_csv('./data/train.csv',index_col='index')\n",
    "train.head()"
   ]
  },
  {
   "cell_type": "code",
   "execution_count": 3,
   "metadata": {},
   "outputs": [
    {
     "data": {
      "text/plain": [
       "(100,)"
      ]
     },
     "execution_count": 3,
     "metadata": {},
     "output_type": "execute_result"
    }
   ],
   "source": [
    "# оценим количество кирпичей\n",
    "train.brick_number.unique().shape"
   ]
  },
  {
   "cell_type": "code",
   "execution_count": 4,
   "metadata": {
    "collapsed": true
   },
   "outputs": [],
   "source": [
    "brick2 = train.query('brick_number == 2')"
   ]
  },
  {
   "cell_type": "code",
   "execution_count": 5,
   "metadata": {},
   "outputs": [
    {
     "data": {
      "text/plain": [
       "array([15847, 20217,  4299])"
      ]
     },
     "execution_count": 5,
     "metadata": {},
     "output_type": "execute_result"
    }
   ],
   "source": [
    "brick2.query('signal == 1').event_id.unique()"
   ]
  },
  {
   "cell_type": "markdown",
   "metadata": {},
   "source": [
    "Примерный план обработки:\n",
    "    <ul>\n",
    "    <li> Разобрать треки по кирпичам\n",
    "    <li> Отсортировать по расстоянию z, т.е. по слоям. Подумать о введении дополнительной переменной \"слой\"\n",
    "    <li> Отсортировать по координате X\n",
    "    <li> Начать перебор с начала кирпича.\n",
    "    </ul>"
   ]
  },
  {
   "cell_type": "code",
   "execution_count": 6,
   "metadata": {
    "collapsed": true
   },
   "outputs": [],
   "source": [
    "brick = brick2"
   ]
  },
  {
   "cell_type": "code",
   "execution_count": 7,
   "metadata": {
    "collapsed": true
   },
   "outputs": [],
   "source": [
    "# create dictionaries\n",
    "zPos = np.sort(brick.Z.unique())\n",
    "zPosDict = dict(enumerate(zPos)) # dictionary of positions (layerNumber => position)\n",
    "zDiffDict = dict(enumerate(np.diff(zPos))) # dictionaru of distances (layerNumber => distance to the next layer)\n",
    "layerDict = {v: k for k, v in zPosDict.iteritems() } # dictionary of layer number (position => layerNumber)\n",
    "\n",
    "# add extra feature - layer number\n",
    "brick = brick.assign(layerId = brick.Z.map(layerDict))"
   ]
  },
  {
   "cell_type": "code",
   "execution_count": 125,
   "metadata": {},
   "outputs": [
    {
     "data": {
      "text/plain": [
       "array([  3.54064776e+04,   2.88788655e+04,   9.66750383e-02,\n",
       "         5.11160716e-02])"
      ]
     },
     "execution_count": 125,
     "metadata": {},
     "output_type": "execute_result"
    }
   ],
   "source": [
    "idx1 = 3901599\n",
    "idx2 = 3670692\n",
    "layerId = brick.loc[idx1].layerId\n",
    "prediction = getPosition(brick.loc[idx1],zDiffDict.get(layerId))\n",
    "prediction"
   ]
  },
  {
   "cell_type": "code",
   "execution_count": 38,
   "metadata": {
    "collapsed": true
   },
   "outputs": [],
   "source": [
    "layerId = 1\n",
    "layer0 = brick.query('layerId == @layerId')\n",
    "layer1 = brick.query('layerId == @layerId+1').sort_values(by='X',ascending=True)"
   ]
  },
  {
   "cell_type": "code",
   "execution_count": 39,
   "metadata": {
    "collapsed": true
   },
   "outputs": [],
   "source": [
    "layer0Arr = layer0.reset_index().as_matrix(columns = ['index', 'X', 'Y', 'TX', 'TY', 'signal'])\n",
    "layer1Arr = layer1.reset_index().as_matrix(columns = ['index', 'X', 'Y', 'TX', 'TY', 'signal'])"
   ]
  },
  {
   "cell_type": "code",
   "execution_count": 43,
   "metadata": {},
   "outputs": [
    {
     "name": "stdout",
     "output_type": "stream",
     "text": [
      "[[  3.47483000e+05   6.21990547e+04   7.32938281e+03   1.78683043e-01\n",
      "    4.38244045e-02   0.00000000e+00]]\n",
      "***\n",
      "[[  1.10442200e+06   5.12175742e+04   7.55027422e+04   7.36607146e-03\n",
      "    2.69456834e-01   0.00000000e+00]]\n",
      "***\n"
     ]
    }
   ],
   "source": [
    "# перепишу по массивы\n",
    "#%%time\n",
    "result  = pd.DataFrame(columns=layer1.columns.names)\n",
    "dx  = 100 # estimation of error along OX axis\n",
    "dy  = 100 # estimation of error along OY axis\n",
    "dtx = 0.2\n",
    "dty = 0.2\n",
    "\n",
    "dz = zDiffDict.get(layerId)\n",
    "for track in layer0Arr:\n",
    "    #calculate new pos\n",
    "    newX  = track[1]+dz*np.tan(track[3])\n",
    "    newY  = track[2]+dz*np.tan(track[4])\n",
    "    newTX = track[3]\n",
    "    newTY = track[4]\n",
    "    \n",
    "    #print \n",
    "    lEdge = np.searchsorted(layer1Arr[:,1],newX-dx,side='left')\n",
    "    rEdge = np.searchsorted(layer1Arr[:,1],newX+dx,side='right')\n",
    "    subSet = layer1Arr[lEdge:rEdge,:]\n",
    "    subSet = subSet[np.where((subSet[:,2]>newY-dy) &  (subSet[:,2]<newY+dy) & (subSet[:,3]>newTX-dtx) & (subSet[:,3]<newTX+dtx) & (subSet[:,4]>newTY-dty) & (subSet[:,4]<newTX+dty)),:][0]\n",
    "    \n",
    "    if subSet.shape[0] > 0:\n",
    "        print subSet\n",
    "        print '***'"
   ]
  },
  {
   "cell_type": "code",
   "execution_count": 31,
   "metadata": {},
   "outputs": [
    {
     "data": {
      "text/plain": [
       "array([], shape=(1, 0, 6), dtype=float64)"
      ]
     },
     "execution_count": 31,
     "metadata": {},
     "output_type": "execute_result"
    }
   ],
   "source": [
    "subSet"
   ]
  },
  {
   "cell_type": "code",
   "execution_count": null,
   "metadata": {
    "collapsed": true
   },
   "outputs": [],
   "source": []
  }
 ],
 "metadata": {
  "kernelspec": {
   "display_name": "Python 2",
   "language": "python",
   "name": "python2"
  },
  "language_info": {
   "codemirror_mode": {
    "name": "ipython",
    "version": 2
   },
   "file_extension": ".py",
   "mimetype": "text/x-python",
   "name": "python",
   "nbconvert_exporter": "python",
   "pygments_lexer": "ipython2",
   "version": "2.7.13"
  }
 },
 "nbformat": 4,
 "nbformat_minor": 2
}
